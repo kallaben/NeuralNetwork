{
 "cells": [
  {
   "cell_type": "code",
   "execution_count": 64,
   "metadata": {},
   "outputs": [],
   "source": [
    "import random\n",
    "import numpy as np\n",
    "class Layer:\n",
    "    def __init__(self, width, prev_width, activation_fun):\n",
    "        self.width = width\n",
    "        self.prev_width = prev_width\n",
    "        self.W = self.__initializeWeights(width, prev_width)\n",
    "        self.activation_fun = activation_fun\n",
    "        self.weightedSums = np.zeros(prev_width + 1)\n",
    "        self.activations = np.zeros(prev_width + 1)\n",
    "        \n",
    "    def __initializeWeights(self, width, prev_width):\n",
    "        W = np.random.rand(prev_width + 1, width)\n",
    "        W[0] = np.ones(width)\n",
    "        return W\n",
    "\n",
    "    def propogate(self, inputs):\n",
    "        inputs = np.append(1, inputs) # Prepend 1 to calc bias\n",
    "        self.weightedSums = np.matmul(inputs, self.W)\n",
    "        self.activations = [self.activation_fun(x) for x in self.weightedSums]\n",
    "        \n",
    "    def getWidth(self):\n",
    "        return self.width\n",
    "    \n",
    "    def getWeightedSums(self):\n",
    "        return self.weightedSums\n",
    "    \n",
    "    def getActivations(self):\n",
    "        return self.activations"
   ]
  },
  {
   "cell_type": "code",
   "execution_count": 69,
   "metadata": {},
   "outputs": [],
   "source": [
    "class NeuralNet:\n",
    "    def __init__(self, hiddenLayerWidths, activation_functions, train_X, train_y):\n",
    "        self.train_X = train_X\n",
    "        self.train_y = train_y\n",
    "        self.input_N = len(train_X[0])\n",
    "        self.activation_funs = activation_functions\n",
    "        self.layers = self.__initializeLayers(hiddenLayerWidths)\n",
    "        self.sampleLayerWeightedSums = [[[] for x in range(len(self.layers))] for x in range(len(self.train_X))]\n",
    "        self.sampleLayerActivations = [[[] for x in range(len(self.layers))] for x in range(len(self.train_X))]\n",
    "\n",
    "    def __initializeLayers(self, hiddenLayerWidths):\n",
    "        layers = []\n",
    "        prev_width = self.input_N\n",
    "        for width, activation_fun in zip(hiddenLayerWidths, self.activation_funs):\n",
    "            layers.append(Layer(width, prev_width, activation_fun))\n",
    "            prev_width = width\n",
    "        return layers\n",
    "    \n",
    "    def __computeLayers(self):\n",
    "        for sample_n in range(len(self.train_X)):\n",
    "            currInp = self.train_X[sample_n]\n",
    "            for layer_l in range(len(self.layers)):\n",
    "                self.layers[layer_l].propogate(currInp)\n",
    "                self.sampleLayerWeightedSums[sample_n][layer_l] = self.layers[layer_l].getWeightedSums()\n",
    "                activations = self.layers[layer_l].getActivations()\n",
    "                self.sampleLayerActivations[sample_n][layer_l] = activations\n",
    "                currInp = activations\n",
    "    \n",
    "    def getLoss(self): # Loss function: 1/2 * sum(||y - f(x)||^2)\n",
    "        self.__computeLayers()\n",
    "        loss = 0\n",
    "        for sample_n in range(len(self.train_y)):\n",
    "            diff = np.subtract(self.train_y[sample_n], self.sampleLayerActivations[sample_n][-1])\n",
    "            loss += np.linalg.norm(diff) **2\n",
    "        return loss / 2\n",
    "\n",
    "#     def getLastLayerError(self):\n",
    "#         layers[-1].getActivations() - tra\n",
    "    \n",
    "#     def computeGradients():\n",
    "#         L_error = 0\n",
    "#         for X, y in zip(train_X, train_y):\n"
   ]
  },
  {
   "cell_type": "code",
   "execution_count": 70,
   "metadata": {},
   "outputs": [
    {
     "name": "stdout",
     "output_type": "stream",
     "text": [
      "1025856.7255300444\n"
     ]
    }
   ],
   "source": [
    "def f(x):\n",
    "    return max(0, x)\n",
    "nn = NeuralNet([3, 2, 1], [f, f, f], [[20, 10 ,40], [30, 15, 15], [15, 25, 24]], [[800], [856], [900]])\n",
    "\n",
    "print(nn.getLoss())\n"
   ]
  },
  {
   "cell_type": "code",
   "execution_count": 59,
   "metadata": {},
   "outputs": [
    {
     "ename": "NameError",
     "evalue": "name 'layer' is not defined",
     "output_type": "error",
     "traceback": [
      "\u001b[1;31m---------------------------------------------------------------------------\u001b[0m",
      "\u001b[1;31mNameError\u001b[0m                                 Traceback (most recent call last)",
      "\u001b[1;32m<ipython-input-59-7a170b68c605>\u001b[0m in \u001b[0;36m<module>\u001b[1;34m\u001b[0m\n\u001b[1;32m----> 1\u001b[1;33m \u001b[0mlayer\u001b[0m\u001b[1;33m.\u001b[0m\u001b[0mcalculateWeightedSums\u001b[0m\u001b[1;33m(\u001b[0m\u001b[0mnp\u001b[0m\u001b[1;33m.\u001b[0m\u001b[0mrandom\u001b[0m\u001b[1;33m.\u001b[0m\u001b[0mrand\u001b[0m\u001b[1;33m(\u001b[0m\u001b[1;36m10\u001b[0m\u001b[1;33m)\u001b[0m\u001b[1;33m)\u001b[0m\u001b[1;33m\u001b[0m\u001b[1;33m\u001b[0m\u001b[0m\n\u001b[0m\u001b[0;32m      2\u001b[0m \u001b[0mlayer\u001b[0m\u001b[1;33m.\u001b[0m\u001b[0mcalculateActivations\u001b[0m\u001b[1;33m(\u001b[0m\u001b[1;33m)\u001b[0m\u001b[1;33m\u001b[0m\u001b[1;33m\u001b[0m\u001b[0m\n",
      "\u001b[1;31mNameError\u001b[0m: name 'layer' is not defined"
     ]
    }
   ],
   "source": [
    "layer.calculateWeightedSums(np.random.rand(10))\n",
    "layer.calculateActivations()"
   ]
  },
  {
   "cell_type": "code",
   "execution_count": 51,
   "metadata": {},
   "outputs": [
    {
     "data": {
      "text/plain": [
       "[4.04481601161713, 3.474461167932132, 3.3120229446159257]"
      ]
     },
     "execution_count": 51,
     "metadata": {},
     "output_type": "execute_result"
    }
   ],
   "source": [
    "layer.getActivations()"
   ]
  },
  {
   "cell_type": "code",
   "execution_count": 38,
   "metadata": {},
   "outputs": [
    {
     "name": "stdout",
     "output_type": "stream",
     "text": [
      "[[list([]) list([]) list([])]\n",
      " [list([]) list([]) list([])]\n",
      " [list([]) list([]) list([2, 2, 3, 4])]\n",
      " [list([]) list([]) list([])]]\n"
     ]
    }
   ],
   "source": [
    "a = np.zeros((4,3))\n",
    "b = [[[] for x in range(len(self.layers))] for x in range(len(self.train_x))]\n",
    "\n",
    "\n",
    "b[2][2] = [2,2,3,4]\n",
    "print(np.array(b))"
   ]
  },
  {
   "cell_type": "code",
   "execution_count": null,
   "metadata": {},
   "outputs": [],
   "source": []
  }
 ],
 "metadata": {
  "kernelspec": {
   "display_name": "Python 3",
   "language": "python",
   "name": "python3"
  },
  "language_info": {
   "codemirror_mode": {
    "name": "ipython",
    "version": 3
   },
   "file_extension": ".py",
   "mimetype": "text/x-python",
   "name": "python",
   "nbconvert_exporter": "python",
   "pygments_lexer": "ipython3",
   "version": "3.7.2"
  }
 },
 "nbformat": 4,
 "nbformat_minor": 4
}
